{
 "cells": [
  {
   "cell_type": "markdown",
   "metadata": {},
   "source": [
    "The suscpetible-infected-recovered (SIR) model is a system of nonlinear ODEs given by\n",
    "\\begin{align}\n",
    "    \\frac{dS}{dt} &= \\mu N - \\mu S - \\eta k I S \\\\\n",
    "    \\frac{dI}{dt} &= \\eta k I S - (\\gamma+\\mu)I \\\\\n",
    "    \\frac{dR}{dt} &= \\gamma I - \\mu R.\n",
    "    \\end{align}\n",
    "\n",
    "where $\\gamma$ is the infection rate, $k$ is the contact rate, $r$ is the recovery rate, and $mu$ represents the collective birth and death rate. Each parameter is assumed to take values in the interval [0,1].\n"
   ]
  },
  {
   "cell_type": "code",
   "execution_count": 1,
   "metadata": {},
   "outputs": [],
   "source": [
    "import numpy as np\n",
    "import matplotlib.pyplot as plt\n",
    "from scipy.integrate import odeint\n",
    "from scipy.stats import uniform, beta, gaussian_kde\n"
   ]
  },
  {
   "cell_type": "code",
   "execution_count": 2,
   "metadata": {},
   "outputs": [],
   "source": [
    "# SIR model function\n",
    "def SIR_model(y, t, params, N):\n",
    "    # Unpack parameters\n",
    "    gamma, k, r, mu = params\n",
    "    # Redefine state variables\n",
    "    S, I, R = y\n",
    "\n",
    "    # RHS equations\n",
    "    dSdt = mu*N - mu*S - gamma*k*I*S\n",
    "    dIdt = gamma*k*I*S - (r + mu)*I\n",
    "    dRdt = r*I - mu*R\n",
    "    return [dSdt, dIdt, dRdt]\n"
   ]
  },
  {
   "cell_type": "code",
   "execution_count": 3,
   "metadata": {},
   "outputs": [],
   "source": [
    "# Initial conditions for the SIR model\n",
    "S0, I0, R0 = 900, 100, 0\n",
    "X0 = [S0, I0, R0]\n",
    "N = np.sum(X0)\n",
    "\n",
    "# Time variables\n",
    "t_final = 50\n",
    "dt = 0.05\n",
    "t_data = np.arange(0, t_final + dt, dt)\n",
    "\n",
    "ode_options = {'rtol': 1e-6}\n",
    "\n",
    "# Quantities of interest: integral of the infected state and steady-state equilibrium value of the infected state\n",
    "QoI_time = len(t_data)\n",
    "Y0 = np.array([S0, I0, R0])\n",
    "\n",
    "# Identify upper and lower bounds for [gamma, k, r, mu]\n",
    "parameter_names = ['gamma', 'k', 'r', 'mu']\n",
    "UB = np.array([0.3, 1.0, 1.0, 0.5])\n",
    "LB = np.array([0.1, 0.1, 0.1, 0.1])\n",
    "\n",
    "par_all = 0.5 * (UB + LB)\n",
    "\n",
    "# Parameters\n",
    "par_nom = par_all\n",
    "pars = par_all\n",
    "num_par = len(UB)\n",
    "\n",
    "# Number of samples, parameters, levels, and step size\n",
    "R = 100\n",
    "p = num_par\n",
    "l = 60\n",
    "delta = l / (2 * (l - 1))\n",
    "upper = UB\n",
    "lower = LB\n",
    "d = np.zeros((R, p))\n",
    "\n",
    "# Randomization algorithm\n",
    "A = np.zeros((p + 1, p))\n",
    "for i in range(p):\n",
    "    A[i + 1:p + 1, i] = np.ones(p - i)\n",
    "    \n",
    "X = np.zeros(((p + 1) * R, p * R))\n",
    "F_storage = [[None for _ in range(R)] for _ in range(p + 1)]\n",
    "qstar = np.random.uniform(0, 1, (R, p))\n",
    "Jp = np.ones((p + 1, p))\n",
    "J1 = np.ones((p + 1, 1))\n",
    "P = np.eye(p)\n",
    "UL_MAT = np.eye(p) * (upper - lower)\n",
    "\n"
   ]
  },
  {
   "cell_type": "code",
   "execution_count": null,
   "metadata": {},
   "outputs": [
    {
     "ename": "ValueError",
     "evalue": "matmul: Input operand 1 has a mismatch in its core dimension 0, with gufunc signature (n?,k),(k,m?)->(n?,m?) (size 4 is different from 1)",
     "output_type": "error",
     "traceback": [
      "\u001b[1;31m---------------------------------------------------------------------------\u001b[0m",
      "\u001b[1;31mValueError\u001b[0m                                Traceback (most recent call last)",
      "Cell \u001b[1;32mIn[4], line 9\u001b[0m\n\u001b[0;32m      7\u001b[0m where \u001b[38;5;241m=\u001b[39m np\u001b[38;5;241m.\u001b[39margsort(np\u001b[38;5;241m.\u001b[39mrandom\u001b[38;5;241m.\u001b[39mrand(p))\n\u001b[0;32m      8\u001b[0m Pstar \u001b[38;5;241m=\u001b[39m P[where, :]\n\u001b[1;32m----> 9\u001b[0m Astar \u001b[38;5;241m=\u001b[39m \u001b[43mJ1\u001b[49m\u001b[43m \u001b[49m\u001b[38;5;241;43m@\u001b[39;49m\u001b[43m \u001b[49m\u001b[43mqcurr\u001b[49m \u001b[38;5;241m+\u001b[39m (delta \u001b[38;5;241m/\u001b[39m \u001b[38;5;241m2\u001b[39m) \u001b[38;5;241m*\u001b[39m (((\u001b[38;5;241m2\u001b[39m \u001b[38;5;241m*\u001b[39m A \u001b[38;5;241m-\u001b[39m Jp) \u001b[38;5;241m@\u001b[39m Dstar \u001b[38;5;241m+\u001b[39m Jp) \u001b[38;5;241m@\u001b[39m Pstar)\n\u001b[0;32m     10\u001b[0m C \u001b[38;5;241m=\u001b[39m J1 \u001b[38;5;241m*\u001b[39m lower \u001b[38;5;241m+\u001b[39m Astar \u001b[38;5;241m@\u001b[39m UL_MAT\n\u001b[0;32m     11\u001b[0m fpast \u001b[38;5;241m=\u001b[39m spi\u001b[38;5;241m.\u001b[39modeint(SIR_model, Y0, t_data, args\u001b[38;5;241m=\u001b[39m(C[\u001b[38;5;241m0\u001b[39m], N), \u001b[38;5;241m*\u001b[39m\u001b[38;5;241m*\u001b[39mode_options)\n",
      "\u001b[1;31mValueError\u001b[0m: matmul: Input operand 1 has a mismatch in its core dimension 0, with gufunc signature (n?,k),(k,m?)->(n?,m?) (size 4 is different from 1)"
     ]
    }
   ],
   "source": [
    "## Now, calculate the Morris' indices\n",
    "func_evals = 1\n",
    "for i in range(R):\n",
    "    qcurr = qstar[i, :]\n",
    "    pm1 = np.random.rand(p)\n",
    "    Dstar = np.eye(p) * (pm1 > 0.5) - np.eye(p) * (pm1 <= 0.5)\n",
    "    where = np.argsort(np.random.rand(p))\n",
    "    Pstar = P[where, :]\n",
    "    Astar = np.multiply(J1, qcurr) + (delta / 2) * (((2 * A - Jp) @ Dstar + Jp) @ Pstar)\n",
    "    C = J1 * lower + Astar @ UL_MAT\n",
    "    fpast = odeint(SIR_model, Y0, t_data, args=(C[0], N), **ode_options)\n",
    "    F_storage[0][i] = fpast\n",
    "    for j in range(p):\n",
    "        fstep = odeint(SIR_model, Y0, t_data, args=(C[j + 1], N), **ode_options)\n",
    "        par_sign = np.sign(C[j + 1, where[j]] - C[j, where[j]])\n",
    "        d[i, where[j]] = par_sign * (fstep[-1, 2] - fpast[-1, 2]) / delta\n",
    "        fpast = fstep\n",
    "        F_storage[where[j] + 1][i] = fpast\n",
    "\n",
    "mu = np.mean(d, axis=0)\n",
    "mu_star = np.mean(np.abs(d), axis=0)\n",
    "sigma = np.sqrt(np.sum((d - mu_star)**2, axis=0) / (R - 1))\n"
   ]
  },
  {
   "cell_type": "code",
   "execution_count": null,
   "metadata": {},
   "outputs": [],
   "source": [
    "plt.figure()\n",
    "plt.hold(True)\n",
    "for i in range(num_par):\n",
    "    plt.plot(mu_star[i], sigma[i], 'k.', markersize=20)\n",
    "    plt.text(mu_star[i] * 1.01, sigma[i], parameter_names[i], fontsize=16)\n",
    "plt.hold(False)\n",
    "plt.show()\n",
    "\n",
    "rank = np.sqrt(mu_star**2 + sigma**2)\n",
    "plt.figure()\n",
    "plt.bar(range(len(rank)), rank)\n",
    "plt.xticks(range(len(rank)), parameter_names)\n",
    "plt.show()"
   ]
  },
  {
   "cell_type": "code",
   "execution_count": null,
   "metadata": {},
   "outputs": [],
   "source": []
  }
 ],
 "metadata": {
  "kernelspec": {
   "display_name": "Python 3",
   "language": "python",
   "name": "python3"
  },
  "language_info": {
   "codemirror_mode": {
    "name": "ipython",
    "version": 3
   },
   "file_extension": ".py",
   "mimetype": "text/x-python",
   "name": "python",
   "nbconvert_exporter": "python",
   "pygments_lexer": "ipython3",
   "version": "3.13.2"
  }
 },
 "nbformat": 4,
 "nbformat_minor": 2
}
