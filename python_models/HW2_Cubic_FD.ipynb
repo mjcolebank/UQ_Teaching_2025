{
 "cells": [
  {
   "cell_type": "markdown",
   "metadata": {},
   "source": [
    "This code defines the cubic model, $$f(x;\\theta) = q_1 + q_2 x + q_3 x^2 + q_4 x^3$$, and then calculates a finite difference approximation of the model sensitivity."
   ]
  },
  {
   "cell_type": "code",
   "execution_count": null,
   "metadata": {},
   "outputs": [],
   "source": [
    "import numpy as np\n",
    "import matplotlib.pyplot as plt\n",
    "\n",
    "# Define xspace and param_star here\n",
    "# xspace = np.array([...])  # INSERT SPACE HERE\n",
    "# param_star = np.array([...])  # INSERT PARAMETER VALUE HERE\n",
    "\n",
    "# Function\n",
    "def cubic_model(q, x):\n",
    "    return q[0] + q[1] * x + q[2] * x**2 + q[3] * x**3\n",
    "\n",
    "num_param = 4\n",
    "n_xpts = len(xspace)\n",
    "\n",
    "# Plot function in output space\n",
    "plt.figure()\n",
    "plt.plot(xspace, cubic_model(param_star, xspace))\n",
    "plt.xlabel('x')\n",
    "plt.ylabel('f(x)')\n",
    "plt.title('Cubic Model')\n",
    "plt.show()\n",
    "\n",
    "# Loop over the parameter values and perturb one element at a time\n",
    "f_base = cubic_model(param_star, xspace)  # Reference solution\n",
    "f_sens = np.zeros((num_param, n_xpts))  # Declare storage\n",
    "h = 1e-6  # STEP SIZE\n",
    "\n",
    "for i in range(num_param):\n",
    "    param_step = param_star.copy()\n",
    "    param_step[i] = param_star[i] + h\n",
    "    f_step = cubic_model(param_step, xspace)\n",
    "    f_sens[i, :] = (f_step - f_base) / h\n",
    "\n",
    "# You can now use f_sens for further analysis\n"
   ]
  }
 ],
 "metadata": {
  "kernelspec": {
   "display_name": "Python 3",
   "language": "python",
   "name": "python3"
  },
  "language_info": {
   "codemirror_mode": {
    "name": "ipython",
    "version": 3
   },
   "file_extension": ".py",
   "mimetype": "text/x-python",
   "name": "python",
   "nbconvert_exporter": "python",
   "pygments_lexer": "ipython3",
   "version": "3.13.2"
  }
 },
 "nbformat": 4,
 "nbformat_minor": 2
}
